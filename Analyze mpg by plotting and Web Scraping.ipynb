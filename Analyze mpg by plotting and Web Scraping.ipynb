{
 "cells": [
  {
   "cell_type": "code",
   "execution_count": 1,
   "metadata": {},
   "outputs": [
    {
     "name": "stdout",
     "output_type": "stream",
     "text": [
      "<class 'pandas.core.frame.DataFrame'>\n",
      "RangeIndex: 406 entries, 0 to 405\n",
      "Data columns (total 9 columns):\n",
      "mpg             398 non-null float64\n",
      "cylinders       406 non-null int64\n",
      "displacement    406 non-null float64\n",
      "horsepower      400 non-null float64\n",
      "weight          406 non-null int64\n",
      "acceleration    406 non-null float64\n",
      "model_year      406 non-null int64\n",
      "origin          406 non-null int64\n",
      "car             406 non-null object\n",
      "dtypes: float64(4), int64(4), object(1)\n",
      "memory usage: 28.6+ KB\n"
     ]
    }
   ],
   "source": [
    "from IPython.core.interactiveshell import InteractiveShell\n",
    "InteractiveShell.ast_node_interactivity = \"all\"\n",
    "\n",
    "import pandas as pd\n",
    "\n",
    "df = pd.read_csv('auto-mpg.csv', header=0)\n",
    "df.head()\n",
    "df.info()"
   ]
  },
  {
   "cell_type": "markdown",
   "metadata": {},
   "source": [
    "# Analyzing mpg by plotting"
   ]
  },
  {
   "cell_type": "code",
   "execution_count": 18,
   "metadata": {},
   "outputs": [
    {
     "data": {
      "text/plain": [
       "<matplotlib.legend.Legend at 0x7111d4dfd0>"
      ]
     },
     "execution_count": 18,
     "metadata": {},
     "output_type": "execute_result"
    },
    {
     "data": {
      "image/png": "[encoded data removed]",
      "text/plain": [
       "<Figure size 576x288 with 1 Axes>"
      ]
     },
     "metadata": {},
     "output_type": "display_data"
    }
   ],
   "source": [
    "\n",
    "# show the relationship between \n",
    "# average mpg/weight and model year\n",
    "import matplotlib.pyplot as plt\n",
    "df.groupby('model_year')[\"mpg\",\"acceleration\",\"origin\"].mean()\\\n",
    ".plot(kind='line', figsize=(8,4))\\\n",
    ".legend(loc=4, bbox_to_anchor=(1, 0.5));  # set legend\n",
    "plt.show()\n",
    "%matplotlib inline\n"
   ]
  },
  {
   "cell_type": "markdown",
   "metadata": {},
   "source": [
    "# Web Scraping from Rottentomatoes"
   ]
  },
  {
   "cell_type": "code",
   "execution_count": 19,
   "metadata": {},
   "outputs": [
    {
     "name": "stdout",
     "output_type": "stream",
     "text": [
      "[('Matthew Rozsa', ' August 3, 2017', ' Who would have thought one of the deepest films ever made about learning disabilities would star a talking blue fish?', ' Full Review | Original Score: 3.5/4'), ('Peter Bradshaw', ' July 28, 2016', \" It's watchable, with all the wonderful animation technique that we are in danger of taking for granted. But it's basically a footnote or retread of the movie which melted everyone's heart 12 years ago.\", ' Full Review | Original Score: 3/5'), ('Bruce Diones', ' June 27, 2016', ' While not as visually dazzling as its predecessor, the film is still colorful and immersive; the script, while predictable, puts an engaging spin on the issues of home and identity.', ' Full Review '), ('Christy Lemire', ' June 26, 2016', \" It's gorgeous. It's lively. It's got terrific performances from a strong voice cast. It's emotionally affecting without being heavy-handed.\", ' Full Review | Original Score: 3/4'), ('Zach Schonfeld', ' June 23, 2016', \" Dory's visual palette is such a joy to look at, drawing on the deep blues and greens of the underwater expanse and ocean-dwelling algae.\", ' Full Review '), ('James Berardinelli', ' June 22, 2016', ' Finding Dory is enjoyable in its own right, even if its powerful sense of déjà vu keeps it from approaching the pinnacle of the Disney/Pixar collaborations.', ' Full Review | Original Score: 3/4'), ('Peter Rainer', ' June 17, 2016', ' There are some rollicky moments in Finding Dory... [But] the inventiveness of the animation is not matched by the frayed workmanship of the story line.', ' Full Review | Original Score: B-'), ('Will Leitch', ' June 17, 2016', \" It's a sequel that's a continuation of the original film rather than an expansion of it, and it is still a success, though not a triumph.\", ' Full Review | Original Score: B'), ('Kate Taylor', ' June 17, 2016', \" A sequel that betters the boffo 2003 animated feature Finding Nemo and provides more evidence, after last year's highly original Inside Out, that Pixar has finally emerged from the uninspiring years of the Cars franchise.\", ' Full Review | Original Score: 4/4'), ('Patrick Dunn', ' June 17, 2016', \" The film is often visually striking and charming enough, but it's low on two things we've come to expect from Pixar: comedy and moving emotional moments.\", ' Full Review | Original Score: B-'), ('Richard Roeper', ' June 16, 2016', \" It's a solid, entertaining, well-paced sequel featuring terrific voice work, a clever script and some ingenious action sequences.\", ' Full Review | Original Score: 3/4'), ('Peter Howell', ' June 16, 2016', \" Finding Dory may be more of a minnow than a whale of a tale for Pixar, but it's still a good catch.\", ' Full Review | Original Score: 3/4'), ('Kenneth Turan', ' June 16, 2016', ' As the 13-year gap between \"Nemo\" and \"Dory\" indicates, this was not a concept that cried out to be made.', ' Full Review '), ('Andrew Lapin', ' June 16, 2016', \" It is nice, especially at this precise moment, to believe that evil and cruelty don't necessarily have to exist in the world: that even in the great big ocean, a couple of small fish looking for help can always depend on the kindness of strangers.\", ' Full Review '), ('Joe Morgenstern', ' June 16, 2016', ' \"Finding Dory\" can be touching, sweet and tender, but it\\'s compulsively, preposterously and steadfastly funny.', ' Full Review '), ('Mark Feeney', ' June 16, 2016', ' There are terrific Pixar sequels (\"Toy Story 2\" and \"3\") and OK Pixar sequels (\"Cars 2,\" \"Monsters University\"). \"Finding Dory\" is one of the terrific ones, if not quite up to the \"Toy Story\" standard.', ' Full Review | Original Score: 3.5/4'), ('Lou Lumenick', ' June 16, 2016', ' If there has ever been a better voice performance in an animated film than Ellen DeGeneres\\' in Pixar\\'s wonderful sequel \"Finding Dory,\" I sure can\\'t think of it.', ' Full Review | Original Score: 3.5/4'), ('Brian Lowry', ' June 16, 2016', \" Pixar films are invariably clever and play on multiple levels, and this one is no exception. There's something deeply moving about Dory's plight.\", ' Full Review '), ('J. R. Jones', ' June 16, 2016', ' The elemental emotions at work and the childlike awe at the undersea world -- rendered once again in colorful, carefully researched, lovingly precise animation -- contribute to the sense of a story timeless and pure. ', ' Full Review '), ('Steven Rea', ' June 16, 2016', \" Much of Finding Dory is funny, and fun. But there's something kind of haunting about our heroine's memory thing.\", ' Full Review | Original Score: 3/4'), ('Bruce Kirkland', ' June 16, 2016', ' Finding Dory is delightful throughout, dazzling during its many highlight scenes and just a tad disorienting on rare occasions.', ' Full Review | Original Score: 4/5'), ('Ann Hornaday', ' June 16, 2016', ' In deciding not to stray far from the first film in plot or tone, it makes for a pleasant, familiar, cheerfully unassuming fish-in-her-water tale.', ' Full Review | Original Score: 3/4'), ('Calvin Wilson', ' June 16, 2016', ' Audiences should find \"Dory\" one of Pixar\\'s most charming achievements.', ' Full Review | Original Score: 3.5/4'), ('Matthew Lickona', ' June 16, 2016', \" Directors Andrew Stanton and Angus MacLane make it very clear what you are supposed to feel and when you are supposed to feel it. What they don't do is earn it.\", ' Full Review | Original Score: 1/5'), ('Nancy Churnin', ' June 16, 2016', ' Resisting the temptation to rehash Finding Nemo with new characters as too many sequels do, this fine-finned tale tells a complementary story from the opposite direction.', ' Full Review | Original Score: A-'), ('Stephanie Zacharek', ' June 16, 2016', \" Although DeGeneres' Dory, with her breathless stream-of-consciousness patter, is unavoidably likable, the cast of supporting characters here may be even better.\", ' Full Review '), ('Moira MacDonald', ' June 16, 2016', ' For all the witty voices and great escapes (maybe one too many of the latter), \"Finding Dory\" is ultimately a character story, and DeGeneres\\' lovable, brave Dory swims right into our hearts.', ' Full Review | Original Score: 3.5/4'), ('Jake Coyle', ' June 15, 2016', \" Finding Dory, bright and clever like most all Pixar releases, has the animation studio's familiar blend of wit, heart and visual detail. But it's missing its own magic.\", ' Full Review '), ('Dana Stevens', ' June 15, 2016', \" Finding Dory often goes, if you'll forgive the maritime metaphor, to a level a few fathoms below the cruising depth of its much-loved predecessor.\", ' Full Review '), ('A.O. Scott', ' June 15, 2016', \" The inclusiveness of the film's vision is remarkable partly because it feels so natural, something that no adult will really need to explain. Children will get it, perhaps more intuitively and easily than the rest of us.\", ' Full Review '), ('Rene Rodriguez', ' June 15, 2016', \" Finding Dory isn't so much a sequel to Finding Nemo as it is a Looney Tunes spin-off: Wilder, sillier, broader and instantly disposable. \", ' Full Review | Original Score: 2.5/4'), ('Bill Goodykoontz', ' June 15, 2016', ' Like the original, \"Finding Dory\" makes us understand the fears, joys, struggles and triumphs of family. See it with yours.', ' Full Review | Original Score: 4/5'), ('Mara Reinstein', ' June 15, 2016', \" Sometimes it takes a plucky animated fish to illustrate the benefits of thinking on your fins (er, feet). Now that's a lesson worth retaining. \", ' Full Review '), ('Maricar Estrella', ' June 15, 2016', \" Another huge improvement from its predecessor is the animation, from the way the kelp sways in the ocean to Hank's camouflaging metamorphosis. The filmmakers provide a dynamic, colorful backdrop worthy of 3-D viewing.\", ' Full Review | Original Score: 4.5/5'), ('Amy Nicholson', ' June 15, 2016', ' Morbidity covers every scale of Finding Dory like fin rot.', ' Full Review | Original Score: C'), ('Peter Travers', ' June 15, 2016', ' If Finding Dory lacks the fresh surprise of its predecessor, it still brims with humor, heart and animation miracles. ', ' Full Review | Original Score: 3.5/4'), ('Stephen Whitty', ' June 15, 2016', \" There's a new Pixar film in theaters, and it's a catch.\", ' Full Review | Original Score: 3.5/4'), ('Michael Phillips', ' June 15, 2016', ' The visual personality of the movie is fantastically vivid and bright, the story itself, less so.', ' Full Review | Original Score: 3/4'), ('Peter Hartlaub', ' June 15, 2016', ' It rises above its crowded narrative with an intense emotional core, taking a protagonist whose affliction had been played mostly for comedy, and exploring the emptiness and loneliness of her plight.', ' Full Review | Original Score: 4/4'), ('A.A. Dowd', ' June 15, 2016', ' Finding Dory, like most \"lesser Pixar,\" is more fun around the edges than the competition tends to be at center.', ' Full Review | Original Score: B-'), ('Rafer Guzman', ' June 14, 2016', ' \"Finding Dory\" upholds the Pixar tradition with plenty of inventive humor, cleverly drawn characters and emotionally resonant moments.', ' Full Review | Original Score: 3/4'), ('Tony Hicks', ' June 14, 2016', ' Of course, \"Dory\" has plot similarities to \"Nemo,\" but there is enough love and care devoted to everything from the characters on down that it works beautifully, even without element of surprise.', ' Full Review | Original Score: 3.5/4'), ('Bilge Ebiri', ' June 14, 2016', ' Finding Dory is one of the most devastating things Pixar has made - all while often being even bouncier than Finding Nemo.', ' Full Review '), ('Jordan Hoffman', ' June 14, 2016', \" DeGeneres's vocal performance is extraordinary, effortlessly shifting from jokes to self-perpetuated anxiety attacks.\", ' Full Review | Original Score: 3/5'), ('Alison Willmore', ' June 13, 2016', ' Dory is still irrepressible in Finding Dory, still making her way brightly and cluelessly through life in a state of perpetual now, but her backstory adds a steady element of pathos to a movie that otherwise follows in the same beats as the original.', ' Full Review '), ('Susan Wloszczyna', ' June 13, 2016', ' The result might be less fulfilling this time, but \"Dory\" is ultimately worth the voyage.', ' Full Review | Original Score: 3/4'), ('Ethan Sacks', ' June 10, 2016', ' There will be enough tears to fill a small inflatable pool, if not an ocean.', ' Full Review | Original Score: 4/5'), ('Anna King', ' June 10, 2016', \" Pixar's wizardry is baked into every detail, from the sun-dappled ocean surfaces to the underwater visuals that border on photorealism. It's unforgettable stuff.\", ' Full Review | Original Score: 4/5'), ('Brian Truitt', ' June 10, 2016', \" While the animation is still top-notch and a slew of new waterlogged personalities buoy the story, it doesn't have nearly the same sense of heart, wonder and awe as Nemo.\", ' Full Review | Original Score: 2.5/4'), ('Chris Nashawaty', ' June 10, 2016', ' One of the biggest and most pleasant surprises in a film with too few of them is just how resonant Dory will be for parents of kids with learning disabilities.', ' Full Review | Original Score: B'), ('Alonso Duralde', ' June 10, 2016', \" Stanton and co-director Angus MacLane augment the hilarious characters with visual grandeur (who knew there were this many shades of blue?) and comedy, particularly from Hank the octopus' chameleonic and contortionist skills.\", ' Full Review '), ('Todd McCarthy', ' June 10, 2016', ' Its heroine may suffer from short-term memory loss, but viewers with any memory at all will realize that Finding Dory falls rather short of its wondrous progenitor.', ' Full Review '), ('Owen Gleiberman', ' June 10, 2016', ' Andrew Stanton and Angus MacLane, the co-directors of \"Finding Dory,\" have made a beautiful, rambunctious, and fully felt sequel - a movie totally worth its salt water.', ' Full Review '), ('David Ehrlich', ' June 10, 2016', \" Pixar's best film since Up, and a compelling argument as to why we make sequels in the first place. \", ' Full Review | Original Score: B+')]\n"
     ]
    }
   ],
   "source": [
    "import requests\n",
    "from bs4 import BeautifulSoup\n",
    "import matplotlib.pyplot as plt\n",
    "\n",
    "def getReviews(movie_id):\n",
    "    reviews=[] # variable to hold all reviews\n",
    "    page_url=\"https://www.rottentomatoes.com/m/\"+movie_id+\"/reviews/?type=top_critics\"\n",
    "    page = requests.get(page_url)\n",
    "    if page.status_code==200:\n",
    "# insert your code to process page content\n",
    "        soup = BeautifulSoup(page.content, 'html.parser')  \n",
    "\n",
    "# soup object stands for the **root** node of the html document tree\n",
    "\n",
    "# print soup object nicely\n",
    "\n",
    "\n",
    "        divs=soup.select(\"section#content > div.panel-body.content_body > div#reviews > div.content > div.review_table > div.row.review_table_row\")\n",
    "        \n",
    "\n",
    "        for idx, div in enumerate(divs):\n",
    "            # for testing you can print idx, div\n",
    "            #print idx, div \n",
    "\n",
    "            # initiate the variable for each period\n",
    "            name=None\n",
    "            date=None\n",
    "            desc=None\n",
    "            score=None\n",
    "\n",
    "            # get title\n",
    "            p_title=div.select(\"div.col-xs-8  div a\")\n",
    "\n",
    "            # test if \"period-name\" indeed exists\n",
    "            # before you get the text\n",
    "            if p_title!=[]:\n",
    "                name=p_title[0].get_text()\n",
    "\n",
    "            p_date=div.select(\"div.col-xs-16.review_container div div.review_date.subtle.small \")\n",
    "            if p_date!=[]:\n",
    "                date=p_date[0].get_text()\n",
    "\n",
    "            # get description\n",
    "            p_desc=div.select(\"div.col-xs-16.review_container div div  div.the_review\")\n",
    "            if p_desc!=[]:\n",
    "                desc=p_desc[0].get_text()\n",
    "\n",
    "            # NOTE:don't leave the gap in tags\n",
    "            p_score=div.select(\"div.col-xs-16.review_container div div div.small.subtle\")\n",
    "            if p_score!=[]:\n",
    "                score=p_score[0].get_text()\n",
    "\n",
    "            # add title, description, and temperature as a tuple into the list\n",
    "            reviews.append((name, date, desc, score))\n",
    "            #print((name, date, desc, score))\n",
    "\n",
    "\n",
    "\n",
    "\n",
    "\n",
    "        return reviews\n",
    "#best practice to test your class\n",
    "# if your script is exported as a module,\n",
    "# the following part is ignored\n",
    "# this is equivalent to main() in Java\n",
    "if __name__ == \"__main__\":\n",
    "\n",
    "    movie_id='finding_dory'\n",
    "    reviews=getReviews(movie_id)\n",
    "print(reviews)"
   ]
  },
  {
   "cell_type": "markdown",
   "metadata": {},
   "source": [
    "# Bit Different Way of Scraping same content"
   ]
  },
  {
   "cell_type": "code",
   "execution_count": 20,
   "metadata": {},
   "outputs": [
    {
     "name": "stdout",
     "output_type": "stream",
     "text": [
      "[('Matthew Rozsa', ' August 3, 2017', ' Who would have thought one of the deepest films ever made about learning disabilities would star a talking blue fish?', None), ('Peter Bradshaw', ' July 28, 2016', \" It's watchable, with all the wonderful animation technique that we are in danger of taking for granted. But it's basically a footnote or retread of the movie which melted everyone's heart 12 years ago.\", None), ('Bruce Diones', ' June 27, 2016', ' While not as visually dazzling as its predecessor, the film is still colorful and immersive; the script, while predictable, puts an engaging spin on the issues of home and identity.', None), ('Christy Lemire', ' June 26, 2016', \" It's gorgeous. It's lively. It's got terrific performances from a strong voice cast. It's emotionally affecting without being heavy-handed.\", None), ('Zach Schonfeld', ' June 23, 2016', \" Dory's visual palette is such a joy to look at, drawing on the deep blues and greens of the underwater expanse and ocean-dwelling algae.\", None), ('James Berardinelli', ' June 22, 2016', ' Finding Dory is enjoyable in its own right, even if its powerful sense of déjà vu keeps it from approaching the pinnacle of the Disney/Pixar collaborations.', None), ('Peter Rainer', ' June 17, 2016', ' There are some rollicky moments in Finding Dory... [But] the inventiveness of the animation is not matched by the frayed workmanship of the story line.', None), ('Will Leitch', ' June 17, 2016', \" It's a sequel that's a continuation of the original film rather than an expansion of it, and it is still a success, though not a triumph.\", None), ('Kate Taylor', ' June 17, 2016', \" A sequel that betters the boffo 2003 animated feature Finding Nemo and provides more evidence, after last year's highly original Inside Out, that Pixar has finally emerged from the uninspiring years of the Cars franchise.\", None), ('Patrick Dunn', ' June 17, 2016', \" The film is often visually striking and charming enough, but it's low on two things we've come to expect from Pixar: comedy and moving emotional moments.\", None), ('Richard Roeper', ' June 16, 2016', \" It's a solid, entertaining, well-paced sequel featuring terrific voice work, a clever script and some ingenious action sequences.\", None), ('Peter Howell', ' June 16, 2016', \" Finding Dory may be more of a minnow than a whale of a tale for Pixar, but it's still a good catch.\", None), ('Kenneth Turan', ' June 16, 2016', ' As the 13-year gap between \"Nemo\" and \"Dory\" indicates, this was not a concept that cried out to be made.', None), ('Andrew Lapin', ' June 16, 2016', \" It is nice, especially at this precise moment, to believe that evil and cruelty don't necessarily have to exist in the world: that even in the great big ocean, a couple of small fish looking for help can always depend on the kindness of strangers.\", None), ('Joe Morgenstern', ' June 16, 2016', ' \"Finding Dory\" can be touching, sweet and tender, but it\\'s compulsively, preposterously and steadfastly funny.', None), ('Mark Feeney', ' June 16, 2016', ' There are terrific Pixar sequels (\"Toy Story 2\" and \"3\") and OK Pixar sequels (\"Cars 2,\" \"Monsters University\"). \"Finding Dory\" is one of the terrific ones, if not quite up to the \"Toy Story\" standard.', None), ('Lou Lumenick', ' June 16, 2016', ' If there has ever been a better voice performance in an animated film than Ellen DeGeneres\\' in Pixar\\'s wonderful sequel \"Finding Dory,\" I sure can\\'t think of it.', None), ('Brian Lowry', ' June 16, 2016', \" Pixar films are invariably clever and play on multiple levels, and this one is no exception. There's something deeply moving about Dory's plight.\", None), ('J. R. Jones', ' June 16, 2016', ' The elemental emotions at work and the childlike awe at the undersea world -- rendered once again in colorful, carefully researched, lovingly precise animation -- contribute to the sense of a story timeless and pure. ', None), ('Steven Rea', ' June 16, 2016', \" Much of Finding Dory is funny, and fun. But there's something kind of haunting about our heroine's memory thing.\", None), ('Bruce Kirkland', ' June 16, 2016', ' Finding Dory is delightful throughout, dazzling during its many highlight scenes and just a tad disorienting on rare occasions.', None), ('Ann Hornaday', ' June 16, 2016', ' In deciding not to stray far from the first film in plot or tone, it makes for a pleasant, familiar, cheerfully unassuming fish-in-her-water tale.', None), ('Calvin Wilson', ' June 16, 2016', ' Audiences should find \"Dory\" one of Pixar\\'s most charming achievements.', None), ('Matthew Lickona', ' June 16, 2016', \" Directors Andrew Stanton and Angus MacLane make it very clear what you are supposed to feel and when you are supposed to feel it. What they don't do is earn it.\", None), ('Nancy Churnin', ' June 16, 2016', ' Resisting the temptation to rehash Finding Nemo with new characters as too many sequels do, this fine-finned tale tells a complementary story from the opposite direction.', None), ('Stephanie Zacharek', ' June 16, 2016', \" Although DeGeneres' Dory, with her breathless stream-of-consciousness patter, is unavoidably likable, the cast of supporting characters here may be even better.\", None), ('Moira MacDonald', ' June 16, 2016', ' For all the witty voices and great escapes (maybe one too many of the latter), \"Finding Dory\" is ultimately a character story, and DeGeneres\\' lovable, brave Dory swims right into our hearts.', None), ('Jake Coyle', ' June 15, 2016', \" Finding Dory, bright and clever like most all Pixar releases, has the animation studio's familiar blend of wit, heart and visual detail. But it's missing its own magic.\", None), ('Dana Stevens', ' June 15, 2016', \" Finding Dory often goes, if you'll forgive the maritime metaphor, to a level a few fathoms below the cruising depth of its much-loved predecessor.\", None), ('A.O. Scott', ' June 15, 2016', \" The inclusiveness of the film's vision is remarkable partly because it feels so natural, something that no adult will really need to explain. Children will get it, perhaps more intuitively and easily than the rest of us.\", None), ('Rene Rodriguez', ' June 15, 2016', \" Finding Dory isn't so much a sequel to Finding Nemo as it is a Looney Tunes spin-off: Wilder, sillier, broader and instantly disposable. \", None), ('Bill Goodykoontz', ' June 15, 2016', ' Like the original, \"Finding Dory\" makes us understand the fears, joys, struggles and triumphs of family. See it with yours.', None), ('Mara Reinstein', ' June 15, 2016', \" Sometimes it takes a plucky animated fish to illustrate the benefits of thinking on your fins (er, feet). Now that's a lesson worth retaining. \", None), ('Maricar Estrella', ' June 15, 2016', \" Another huge improvement from its predecessor is the animation, from the way the kelp sways in the ocean to Hank's camouflaging metamorphosis. The filmmakers provide a dynamic, colorful backdrop worthy of 3-D viewing.\", None), ('Amy Nicholson', ' June 15, 2016', ' Morbidity covers every scale of Finding Dory like fin rot.', None), ('Peter Travers', ' June 15, 2016', ' If Finding Dory lacks the fresh surprise of its predecessor, it still brims with humor, heart and animation miracles. ', None), ('Stephen Whitty', ' June 15, 2016', \" There's a new Pixar film in theaters, and it's a catch.\", None), ('Michael Phillips', ' June 15, 2016', ' The visual personality of the movie is fantastically vivid and bright, the story itself, less so.', None), ('Peter Hartlaub', ' June 15, 2016', ' It rises above its crowded narrative with an intense emotional core, taking a protagonist whose affliction had been played mostly for comedy, and exploring the emptiness and loneliness of her plight.', None), ('A.A. Dowd', ' June 15, 2016', ' Finding Dory, like most \"lesser Pixar,\" is more fun around the edges than the competition tends to be at center.', None), ('Rafer Guzman', ' June 14, 2016', ' \"Finding Dory\" upholds the Pixar tradition with plenty of inventive humor, cleverly drawn characters and emotionally resonant moments.', None), ('Tony Hicks', ' June 14, 2016', ' Of course, \"Dory\" has plot similarities to \"Nemo,\" but there is enough love and care devoted to everything from the characters on down that it works beautifully, even without element of surprise.', None), ('Bilge Ebiri', ' June 14, 2016', ' Finding Dory is one of the most devastating things Pixar has made - all while often being even bouncier than Finding Nemo.', None), ('Jordan Hoffman', ' June 14, 2016', \" DeGeneres's vocal performance is extraordinary, effortlessly shifting from jokes to self-perpetuated anxiety attacks.\", None), ('Alison Willmore', ' June 13, 2016', ' Dory is still irrepressible in Finding Dory, still making her way brightly and cluelessly through life in a state of perpetual now, but her backstory adds a steady element of pathos to a movie that otherwise follows in the same beats as the original.', None), ('Susan Wloszczyna', ' June 13, 2016', ' The result might be less fulfilling this time, but \"Dory\" is ultimately worth the voyage.', None), ('Ethan Sacks', ' June 10, 2016', ' There will be enough tears to fill a small inflatable pool, if not an ocean.', None), ('Anna King', ' June 10, 2016', \" Pixar's wizardry is baked into every detail, from the sun-dappled ocean surfaces to the underwater visuals that border on photorealism. It's unforgettable stuff.\", None), ('Brian Truitt', ' June 10, 2016', \" While the animation is still top-notch and a slew of new waterlogged personalities buoy the story, it doesn't have nearly the same sense of heart, wonder and awe as Nemo.\", None), ('Chris Nashawaty', ' June 10, 2016', ' One of the biggest and most pleasant surprises in a film with too few of them is just how resonant Dory will be for parents of kids with learning disabilities.', None), ('Alonso Duralde', ' June 10, 2016', \" Stanton and co-director Angus MacLane augment the hilarious characters with visual grandeur (who knew there were this many shades of blue?) and comedy, particularly from Hank the octopus' chameleonic and contortionist skills.\", None), ('Todd McCarthy', ' June 10, 2016', ' Its heroine may suffer from short-term memory loss, but viewers with any memory at all will realize that Finding Dory falls rather short of its wondrous progenitor.', None), ('Owen Gleiberman', ' June 10, 2016', ' Andrew Stanton and Angus MacLane, the co-directors of \"Finding Dory,\" have made a beautiful, rambunctious, and fully felt sequel - a movie totally worth its salt water.', None), ('David Ehrlich', ' June 10, 2016', \" Pixar's best film since Up, and a compelling argument as to why we make sequels in the first place. \", None)]\n"
     ]
    }
   ],
   "source": [
    "def getReviews(movie_id):\n",
    "    reviews = []\n",
    "   \n",
    "    page_url = 'https://www.rottentomatoes.com/m/'+movie_id+'/reviews/?type=top_critics'\n",
    "    page = requests.get(page_url)\n",
    "    if page.status_code == 200:\n",
    "        soup = BeautifulSoup(page.content, 'html.parser')\n",
    "        review_table = soup.select('section#content > div.panel-body.content_body > div#reviews > div.content > div.review_table > div.row.review_table_row')\n",
    "        for idx,div in enumerate(review_table):\n",
    "            ReviewerName = None\n",
    "            ReviewDate = None\n",
    "            ReviewDesc = None\n",
    "            ReviewScore = None\n",
    "            \n",
    "            Name = div.select('div.col-xs-8 > div.col-sm-13.col-xs-24.col-sm-pull-4.critic_name > a')\n",
    "            Date = div.select('div.col-xs-16.review_container > div.review_area > div.review_date.subtle.small')\n",
    "            Desc = div.select('div.col-xs-16.review_container > div.review_area > div.review_desc > div.the_review')\n",
    "            Score = div.select('div.col-xs-16.review_container > div.review_area > div.review_desc > div.small.subtle')\n",
    "            if Name[0]!=[]:\n",
    "                ReviewerName = Name[0].get_text()\n",
    "            if Date[0]!=[]:\n",
    "                ReviewDate = Date[0].get_text()\n",
    "            if Desc[0]!=[]:\n",
    "                ReviewDesc = Desc[0].get_text()\n",
    "            if Score[0]!=[]:\n",
    "                temp = Score[0].get_text()\n",
    "                \n",
    "            reviews.append((ReviewerName,ReviewDate,ReviewDesc,ReviewScore))\n",
    "    return reviews            \n",
    "\n",
    "if __name__ == \"__main__\":\n",
    "       \n",
    "        movie_id='finding_dory'\n",
    "        reviews=getReviews(movie_id)\n",
    "print(reviews)"
   ]
  },
  {
   "cell_type": "code",
   "execution_count": null,
   "metadata": {},
   "outputs": [],
   "source": []
  }
 ],
 "metadata": {
  "kernelspec": {
   "display_name": "Python 3",
   "language": "python",
   "name": "python3"
  },
  "language_info": {
   "codemirror_mode": {
    "name": "ipython",
    "version": 3
   },
   "file_extension": ".py",
   "mimetype": "text/x-python",
   "name": "python",
   "nbconvert_exporter": "python",
   "pygments_lexer": "ipython3",
   "version": "3.6.5"
  }
 },
 "nbformat": 4,
 "nbformat_minor": 2
}
